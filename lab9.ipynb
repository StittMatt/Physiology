{
  "nbformat": 4,
  "nbformat_minor": 0,
  "metadata": {
    "colab": {
      "provenance": []
    },
    "kernelspec": {
      "name": "python3",
      "display_name": "Python 3"
    },
    "language_info": {
      "name": "python"
    }
  },
  "cells": [
    {
      "cell_type": "markdown",
      "source": [
        "### Purpose\n",
        "The purpose of this lab was to familirize ourselvles with the use of an electromyograph (EMG) to measure electrical data from our muscles as we move them and observing the data in the labarotory software iworx."
      ],
      "metadata": {
        "id": "jJwFdF1hj5Yr"
      }
    },
    {
      "cell_type": "markdown",
      "source": [
        "### Procedure\n",
        ". To get things started:\n",
        " Before you turn anything on, be sure the IWX/214 unit is plugged in, and that the IWX/214 unit is connected to the laptop by USB cable.\n",
        " Be sure that the C-AAMI-504 EEG cable is inserted into the isolated inputs of Channels 1 and 2 of the IWX/214. Be sure that the color-coded lead wires are correctly inserted in the lead pedestal of the C-AAMI-504 EEG cable. Insert the connectors on the electrode lead wires into the color-coded matching sockets on the lead pedestal of the ECG cable.\n",
        " Once everything is connected, FIRST turn on the laptop and allow it to fully boot up before you turn on the IWX/214 unit. Once the Iworx unit is on, the red indicator light on the Iworx unit should light up and you may hear the USB chime from the laptop if the laptop does not default to mute (many are set to default to mute).\n",
        "2. Open the Labscribe3 program by clicking on the Labscribe3 icon on the desktop. As soon as the program opens, you should see a window pop-up that says “Hardware found IWX214:2008-1-24,” click “OK.”  In the second from the top row (the row that says “File Edit View Tools Settings Advanced External Devices Help”), click on the “Settings” tab. About halfway down the drop-down window should be a tab called “Human Muscle.” Click on that tab and that should lead you to another drop-down list with the second tab from the top called “AntagonisticMuscle,” click on that tab and the close the pdf file that appears, you don’t need it.\n",
        "4. Instruct the subject to remove all jewelry from his/her arm and wrist. Use an alcohol swab to clean the regions of skin on the forearm you are going to use (Fig. 9-1.). Let the area dry. Remove a disposable electrode from its plastic shield, and apply the electrode to the six locations.\n",
        "5. Place the electrodes from proximal to distal on the forearm in the following order: +2, -2 on the posterior and +1, -1 and ground on the anterior. (Fig. 9-1.) Snap the lead wires onto the electrodes as follows:\n",
        " the red “+1” lead is attached to the proximal electrode on the anterior surface.\n",
        " the black “-1” lead is attached to the distal electrode on the anterior forearm.\n",
        " the green “C” lead (the ground) is attached to the remaining electrode on the anterior surface.\n",
        " the white “+2” lead is attached to the proximal electrode on the posterior forearm.\n",
        " the brown “-2” lead is attached to the distal electrode on the posterior surface. Record an EMG of the muscles of the forearm illustrating agonistic and antagonistic muscle activity for each of the exercises described below. Type the student’s name and the appropriate letter for the activity (A, B, C, D – see below) in the Mark box to the right of the Mark button. Click the red “Rec” button to begin the recording; then, press the Enter key on the keyboard to mark the beginning of each the activity. The recording for exercise “A” should look like Fig. 9-3. If you do not see anything, try clicking on the AutoScale tab and/or checking the electrode contacts. Repeat these procedures for each of the remaining activities.\n",
        "\n",
        "A. Gently flex the wrist with the palm open and hold for four seconds. Return the wrist to a neutral position. Extend the wrist, again with the palm open, and hold for four seconds. Repeat several times.\n",
        "B. Forcefully flex the wrist with the hand closed into a fist, hold for four seconds. Return to a neutral position. Extend the wrist maintaining the fist and hold for four seconds. Repeat several times.\n",
        "C. Attempt to flex the wrist against resistance applied by another student for 10 seconds.\n",
        "D. Place the hand in mid-supination and make a fist. Attempt to move the hand upwards against resistance applied by another student. Hold for 10 seconds.\n",
        "Evaluate the amplitude and frequency of the EMG recordings. Identify the agonists, antagonists and synergists, if applicable, for each activity. For example, what muscles were the agonists during wrist flexion - anterior or posterior forearm muscles? How did the EMG change for the antagonists when the wrist was more forcefully moved? During which exercise(s) did synergistic muscle activity become apparent?\n",
        "8. Print a sample of each activity. Before you print, find your highest amplitude waves (probably in activity C or D) and AutoScale. Click on the AutoScale tab at the upper margin of each of the EMG channels. Look for the row that says on the left “A1:EMG Anterior (or Posterior) 3-10KHz,” the AutoScale tab is the second icon after “Hz,” it looks like a magnifying glass with a  symbol on it. After you click this for the biggest waves, this is the scale you will print all four activities. To print a section of the recording, click on “File,” select “Print View.” Select “Landscape” for the page set-up. Be sure to select M- 106 as the printer destination.\n"
      ],
      "metadata": {
        "id": "F1oW__vVl1Q1"
      }
    },
    {
      "cell_type": "markdown",
      "source": [
        "Results"
      ],
      "metadata": {
        "id": "VLGtQxRhmRQY"
      }
    },
    {
      "cell_type": "code",
      "execution_count": null,
      "metadata": {
        "id": "3aOZWzngDehh"
      },
      "outputs": [],
      "source": [
        "# importing libraries\n",
        "import matplotlib.pyplot as plt\n",
        "import pandas as pd\n"
      ]
    },
    {
      "cell_type": "code",
      "source": [
        "df = pd.read_csv (r'./matt 1.txt', sep = '\\t')\n",
        "df"
      ],
      "metadata": {
        "colab": {
          "base_uri": "https://localhost:8080/",
          "height": 424
        },
        "id": "93Z78hbkDq4J",
        "outputId": "5f24112a-a21e-460f-bfa7-e55d4b2f8cbe"
      },
      "execution_count": null,
      "outputs": [
        {
          "output_type": "execute_result",
          "data": {
            "text/plain": [
              "         Time       EMG  Muscle Force\n",
              "0       0.000  0.000000      0.268003\n",
              "1       0.001  0.000000      0.268370\n",
              "2       0.002  0.000000      0.268003\n",
              "3       0.003  0.000000      0.268370\n",
              "4       0.004  0.000000      0.268737\n",
              "...       ...       ...           ...\n",
              "60667  60.667  0.073116      0.268370\n",
              "60668  60.668 -0.092220      0.268003\n",
              "60669  60.669 -0.181651      0.268003\n",
              "60670  60.670  0.019578      0.268370\n",
              "60671  60.671  0.178918      0.268370\n",
              "\n",
              "[60672 rows x 3 columns]"
            ],
            "text/html": [
              "\n",
              "  <div id=\"df-c0c1f5f6-0bff-4c06-9168-11b5c4377134\" class=\"colab-df-container\">\n",
              "    <div>\n",
              "<style scoped>\n",
              "    .dataframe tbody tr th:only-of-type {\n",
              "        vertical-align: middle;\n",
              "    }\n",
              "\n",
              "    .dataframe tbody tr th {\n",
              "        vertical-align: top;\n",
              "    }\n",
              "\n",
              "    .dataframe thead th {\n",
              "        text-align: right;\n",
              "    }\n",
              "</style>\n",
              "<table border=\"1\" class=\"dataframe\">\n",
              "  <thead>\n",
              "    <tr style=\"text-align: right;\">\n",
              "      <th></th>\n",
              "      <th>Time</th>\n",
              "      <th>EMG</th>\n",
              "      <th>Muscle Force</th>\n",
              "    </tr>\n",
              "  </thead>\n",
              "  <tbody>\n",
              "    <tr>\n",
              "      <th>0</th>\n",
              "      <td>0.000</td>\n",
              "      <td>0.000000</td>\n",
              "      <td>0.268003</td>\n",
              "    </tr>\n",
              "    <tr>\n",
              "      <th>1</th>\n",
              "      <td>0.001</td>\n",
              "      <td>0.000000</td>\n",
              "      <td>0.268370</td>\n",
              "    </tr>\n",
              "    <tr>\n",
              "      <th>2</th>\n",
              "      <td>0.002</td>\n",
              "      <td>0.000000</td>\n",
              "      <td>0.268003</td>\n",
              "    </tr>\n",
              "    <tr>\n",
              "      <th>3</th>\n",
              "      <td>0.003</td>\n",
              "      <td>0.000000</td>\n",
              "      <td>0.268370</td>\n",
              "    </tr>\n",
              "    <tr>\n",
              "      <th>4</th>\n",
              "      <td>0.004</td>\n",
              "      <td>0.000000</td>\n",
              "      <td>0.268737</td>\n",
              "    </tr>\n",
              "    <tr>\n",
              "      <th>...</th>\n",
              "      <td>...</td>\n",
              "      <td>...</td>\n",
              "      <td>...</td>\n",
              "    </tr>\n",
              "    <tr>\n",
              "      <th>60667</th>\n",
              "      <td>60.667</td>\n",
              "      <td>0.073116</td>\n",
              "      <td>0.268370</td>\n",
              "    </tr>\n",
              "    <tr>\n",
              "      <th>60668</th>\n",
              "      <td>60.668</td>\n",
              "      <td>-0.092220</td>\n",
              "      <td>0.268003</td>\n",
              "    </tr>\n",
              "    <tr>\n",
              "      <th>60669</th>\n",
              "      <td>60.669</td>\n",
              "      <td>-0.181651</td>\n",
              "      <td>0.268003</td>\n",
              "    </tr>\n",
              "    <tr>\n",
              "      <th>60670</th>\n",
              "      <td>60.670</td>\n",
              "      <td>0.019578</td>\n",
              "      <td>0.268370</td>\n",
              "    </tr>\n",
              "    <tr>\n",
              "      <th>60671</th>\n",
              "      <td>60.671</td>\n",
              "      <td>0.178918</td>\n",
              "      <td>0.268370</td>\n",
              "    </tr>\n",
              "  </tbody>\n",
              "</table>\n",
              "<p>60672 rows × 3 columns</p>\n",
              "</div>\n",
              "    <div class=\"colab-df-buttons\">\n",
              "\n",
              "  <div class=\"colab-df-container\">\n",
              "    <button class=\"colab-df-convert\" onclick=\"convertToInteractive('df-c0c1f5f6-0bff-4c06-9168-11b5c4377134')\"\n",
              "            title=\"Convert this dataframe to an interactive table.\"\n",
              "            style=\"display:none;\">\n",
              "\n",
              "  <svg xmlns=\"http://www.w3.org/2000/svg\" height=\"24px\" viewBox=\"0 -960 960 960\">\n",
              "    <path d=\"M120-120v-720h720v720H120Zm60-500h600v-160H180v160Zm220 220h160v-160H400v160Zm0 220h160v-160H400v160ZM180-400h160v-160H180v160Zm440 0h160v-160H620v160ZM180-180h160v-160H180v160Zm440 0h160v-160H620v160Z\"/>\n",
              "  </svg>\n",
              "    </button>\n",
              "\n",
              "  <style>\n",
              "    .colab-df-container {\n",
              "      display:flex;\n",
              "      gap: 12px;\n",
              "    }\n",
              "\n",
              "    .colab-df-convert {\n",
              "      background-color: #E8F0FE;\n",
              "      border: none;\n",
              "      border-radius: 50%;\n",
              "      cursor: pointer;\n",
              "      display: none;\n",
              "      fill: #1967D2;\n",
              "      height: 32px;\n",
              "      padding: 0 0 0 0;\n",
              "      width: 32px;\n",
              "    }\n",
              "\n",
              "    .colab-df-convert:hover {\n",
              "      background-color: #E2EBFA;\n",
              "      box-shadow: 0px 1px 2px rgba(60, 64, 67, 0.3), 0px 1px 3px 1px rgba(60, 64, 67, 0.15);\n",
              "      fill: #174EA6;\n",
              "    }\n",
              "\n",
              "    .colab-df-buttons div {\n",
              "      margin-bottom: 4px;\n",
              "    }\n",
              "\n",
              "    [theme=dark] .colab-df-convert {\n",
              "      background-color: #3B4455;\n",
              "      fill: #D2E3FC;\n",
              "    }\n",
              "\n",
              "    [theme=dark] .colab-df-convert:hover {\n",
              "      background-color: #434B5C;\n",
              "      box-shadow: 0px 1px 3px 1px rgba(0, 0, 0, 0.15);\n",
              "      filter: drop-shadow(0px 1px 2px rgba(0, 0, 0, 0.3));\n",
              "      fill: #FFFFFF;\n",
              "    }\n",
              "  </style>\n",
              "\n",
              "    <script>\n",
              "      const buttonEl =\n",
              "        document.querySelector('#df-c0c1f5f6-0bff-4c06-9168-11b5c4377134 button.colab-df-convert');\n",
              "      buttonEl.style.display =\n",
              "        google.colab.kernel.accessAllowed ? 'block' : 'none';\n",
              "\n",
              "      async function convertToInteractive(key) {\n",
              "        const element = document.querySelector('#df-c0c1f5f6-0bff-4c06-9168-11b5c4377134');\n",
              "        const dataTable =\n",
              "          await google.colab.kernel.invokeFunction('convertToInteractive',\n",
              "                                                    [key], {});\n",
              "        if (!dataTable) return;\n",
              "\n",
              "        const docLinkHtml = 'Like what you see? Visit the ' +\n",
              "          '<a target=\"_blank\" href=https://colab.research.google.com/notebooks/data_table.ipynb>data table notebook</a>'\n",
              "          + ' to learn more about interactive tables.';\n",
              "        element.innerHTML = '';\n",
              "        dataTable['output_type'] = 'display_data';\n",
              "        await google.colab.output.renderOutput(dataTable, element);\n",
              "        const docLink = document.createElement('div');\n",
              "        docLink.innerHTML = docLinkHtml;\n",
              "        element.appendChild(docLink);\n",
              "      }\n",
              "    </script>\n",
              "  </div>\n",
              "\n",
              "\n",
              "<div id=\"df-8c166266-452c-4abb-8b4d-b8c59d5cb1c6\">\n",
              "  <button class=\"colab-df-quickchart\" onclick=\"quickchart('df-8c166266-452c-4abb-8b4d-b8c59d5cb1c6')\"\n",
              "            title=\"Suggest charts.\"\n",
              "            style=\"display:none;\">\n",
              "\n",
              "<svg xmlns=\"http://www.w3.org/2000/svg\" height=\"24px\"viewBox=\"0 0 24 24\"\n",
              "     width=\"24px\">\n",
              "    <g>\n",
              "        <path d=\"M19 3H5c-1.1 0-2 .9-2 2v14c0 1.1.9 2 2 2h14c1.1 0 2-.9 2-2V5c0-1.1-.9-2-2-2zM9 17H7v-7h2v7zm4 0h-2V7h2v10zm4 0h-2v-4h2v4z\"/>\n",
              "    </g>\n",
              "</svg>\n",
              "  </button>\n",
              "\n",
              "<style>\n",
              "  .colab-df-quickchart {\n",
              "      --bg-color: #E8F0FE;\n",
              "      --fill-color: #1967D2;\n",
              "      --hover-bg-color: #E2EBFA;\n",
              "      --hover-fill-color: #174EA6;\n",
              "      --disabled-fill-color: #AAA;\n",
              "      --disabled-bg-color: #DDD;\n",
              "  }\n",
              "\n",
              "  [theme=dark] .colab-df-quickchart {\n",
              "      --bg-color: #3B4455;\n",
              "      --fill-color: #D2E3FC;\n",
              "      --hover-bg-color: #434B5C;\n",
              "      --hover-fill-color: #FFFFFF;\n",
              "      --disabled-bg-color: #3B4455;\n",
              "      --disabled-fill-color: #666;\n",
              "  }\n",
              "\n",
              "  .colab-df-quickchart {\n",
              "    background-color: var(--bg-color);\n",
              "    border: none;\n",
              "    border-radius: 50%;\n",
              "    cursor: pointer;\n",
              "    display: none;\n",
              "    fill: var(--fill-color);\n",
              "    height: 32px;\n",
              "    padding: 0;\n",
              "    width: 32px;\n",
              "  }\n",
              "\n",
              "  .colab-df-quickchart:hover {\n",
              "    background-color: var(--hover-bg-color);\n",
              "    box-shadow: 0 1px 2px rgba(60, 64, 67, 0.3), 0 1px 3px 1px rgba(60, 64, 67, 0.15);\n",
              "    fill: var(--button-hover-fill-color);\n",
              "  }\n",
              "\n",
              "  .colab-df-quickchart-complete:disabled,\n",
              "  .colab-df-quickchart-complete:disabled:hover {\n",
              "    background-color: var(--disabled-bg-color);\n",
              "    fill: var(--disabled-fill-color);\n",
              "    box-shadow: none;\n",
              "  }\n",
              "\n",
              "  .colab-df-spinner {\n",
              "    border: 2px solid var(--fill-color);\n",
              "    border-color: transparent;\n",
              "    border-bottom-color: var(--fill-color);\n",
              "    animation:\n",
              "      spin 1s steps(1) infinite;\n",
              "  }\n",
              "\n",
              "  @keyframes spin {\n",
              "    0% {\n",
              "      border-color: transparent;\n",
              "      border-bottom-color: var(--fill-color);\n",
              "      border-left-color: var(--fill-color);\n",
              "    }\n",
              "    20% {\n",
              "      border-color: transparent;\n",
              "      border-left-color: var(--fill-color);\n",
              "      border-top-color: var(--fill-color);\n",
              "    }\n",
              "    30% {\n",
              "      border-color: transparent;\n",
              "      border-left-color: var(--fill-color);\n",
              "      border-top-color: var(--fill-color);\n",
              "      border-right-color: var(--fill-color);\n",
              "    }\n",
              "    40% {\n",
              "      border-color: transparent;\n",
              "      border-right-color: var(--fill-color);\n",
              "      border-top-color: var(--fill-color);\n",
              "    }\n",
              "    60% {\n",
              "      border-color: transparent;\n",
              "      border-right-color: var(--fill-color);\n",
              "    }\n",
              "    80% {\n",
              "      border-color: transparent;\n",
              "      border-right-color: var(--fill-color);\n",
              "      border-bottom-color: var(--fill-color);\n",
              "    }\n",
              "    90% {\n",
              "      border-color: transparent;\n",
              "      border-bottom-color: var(--fill-color);\n",
              "    }\n",
              "  }\n",
              "</style>\n",
              "\n",
              "  <script>\n",
              "    async function quickchart(key) {\n",
              "      const quickchartButtonEl =\n",
              "        document.querySelector('#' + key + ' button');\n",
              "      quickchartButtonEl.disabled = true;  // To prevent multiple clicks.\n",
              "      quickchartButtonEl.classList.add('colab-df-spinner');\n",
              "      try {\n",
              "        const charts = await google.colab.kernel.invokeFunction(\n",
              "            'suggestCharts', [key], {});\n",
              "      } catch (error) {\n",
              "        console.error('Error during call to suggestCharts:', error);\n",
              "      }\n",
              "      quickchartButtonEl.classList.remove('colab-df-spinner');\n",
              "      quickchartButtonEl.classList.add('colab-df-quickchart-complete');\n",
              "    }\n",
              "    (() => {\n",
              "      let quickchartButtonEl =\n",
              "        document.querySelector('#df-8c166266-452c-4abb-8b4d-b8c59d5cb1c6 button');\n",
              "      quickchartButtonEl.style.display =\n",
              "        google.colab.kernel.accessAllowed ? 'block' : 'none';\n",
              "    })();\n",
              "  </script>\n",
              "</div>\n",
              "    </div>\n",
              "  </div>\n"
            ]
          },
          "metadata": {},
          "execution_count": 3
        }
      ]
    },
    {
      "cell_type": "code",
      "source": [
        " fig, ax = plt.subplots()\n",
        "df.plot.line(ax = ax, y = 'EMG', x = 'Time')\n",
        "ax.set_xlabel(\"Time (Seconds)\")\n",
        "ax.set_ylabel(\"EMG (Volts)\")"
      ],
      "metadata": {
        "colab": {
          "base_uri": "https://localhost:8080/",
          "height": 467
        },
        "id": "YeKpDuk3D0Ul",
        "outputId": "5bae739b-728a-400e-f2f2-24b90669e68d"
      },
      "execution_count": null,
      "outputs": [
        {
          "output_type": "execute_result",
          "data": {
            "text/plain": [
              "Text(0, 0.5, 'EMG (Volts)')"
            ]
          },
          "metadata": {},
          "execution_count": 4
        },
        {
          "output_type": "display_data",
          "data": {
            "text/plain": [
              "<Figure size 640x480 with 1 Axes>"
            ],
            "image/png": "[encoded data removed]"
          },
          "metadata": {}
        }
      ]
    },
    {
      "cell_type": "code",
      "source": [
        "# Define the parameters\n",
        "window_size = 3  # Window size in seconds (how large of a window you want to take the avg max of)\n",
        "step_size = 10  # Step size in seconds (how often you want to check the"
      ],
      "metadata": {
        "id": "3Qui6Z4dD6Po"
      },
      "execution_count": null,
      "outputs": []
    },
    {
      "cell_type": "code",
      "source": [
        "# Initialize lists to store the calculated max values\n",
        "max_values = []\n",
        "time_intervals = []\n",
        "\n",
        "# Iterate through the data in steps\n",
        "for i in range(0, len(df), int(step_size / 0.001)):\n",
        "    start_idx = i\n",
        "    end_idx = start_idx + int(window_size / 0.001)\n",
        "\n",
        "    if end_idx < len(df):\n",
        "        window_data = df.iloc[start_idx:end_idx]\n",
        "        max_value = window_data['EMG'].max()\n",
        "        max_values.append(max_value)\n",
        "\n",
        "        # Calculate the time interval (take the midpoint of the window)\n",
        "        time_interval = window_data['Time'].mean()\n",
        "        time_intervals.append(time_interval)\n",
        "\n",
        "# Create a new DataFrame with the calculated max values and time intervals\n",
        "result_df = pd.DataFrame({'Time': time_intervals, 'MaxEMG': max_values})\n",
        "\n",
        "# Calculate the percentage of max EMG for each 0.5 seconds interval\n",
        "result_df['MaxEMG_percent'] = (result_df['MaxEMG'] / result_df['MaxEMG'].max()) * 100\n",
        "\n",
        "# Display the result\n",
        "print(result_df)"
      ],
      "metadata": {
        "colab": {
          "base_uri": "https://localhost:8080/"
        },
        "id": "XkicO3GPD-tC",
        "outputId": "0c2adb19-15af-45de-9d6d-4aa5d4f3b74c"
      },
      "execution_count": null,
      "outputs": [
        {
          "output_type": "stream",
          "name": "stdout",
          "text": [
            "      Time    MaxEMG  MaxEMG_percent\n",
            "0   1.4995  0.454696      100.000000\n",
            "1  11.4995  0.337304       74.182311\n",
            "2  21.4995  0.314823       69.238128\n",
            "3  31.4995  0.280401       61.667796\n",
            "4  41.4995  0.291862       64.188381\n",
            "5  51.4995  0.302912       66.618576\n"
          ]
        }
      ]
    },
    {
      "cell_type": "code",
      "source": [
        "threshold = 70\n"
      ],
      "metadata": {
        "id": "aBmmxjoWEDMP"
      },
      "execution_count": null,
      "outputs": []
    },
    {
      "cell_type": "code",
      "source": [
        "reached_threshold = result_df[result_df['MaxEMG_percent'] <= threshold]\n",
        "time_at_threshold = reached_threshold['Time'].iloc[0]\n",
        "print(f\"Time at ~{threshold} % of max: {time_at_threshold} seconds\")"
      ],
      "metadata": {
        "colab": {
          "base_uri": "https://localhost:8080/"
        },
        "id": "GnB7xkk6EGxW",
        "outputId": "8c6e403e-5b35-42f2-f6e6-0740281b4487"
      },
      "execution_count": null,
      "outputs": [
        {
          "output_type": "stream",
          "name": "stdout",
          "text": [
            "Time at ~70 % of max: 21.4995 seconds\n"
          ]
        }
      ]
    },
    {
      "cell_type": "code",
      "source": [
        "ig, ax = plt.subplots()\n",
        "result_df.plot.line(ax = ax, y = 'MaxEMG_percent', x = 'Time', color = 'r', marker = 'o')\n",
        "L=plt.legend()\n",
        "L.get_texts()[0].set_text('EMG data (% of max)')\n",
        "ax.set_xlabel(\"Time (Seconds)\")\n",
        "ax.set_ylabel(\"EMG (% of Max)\")\n",
        "plt.axhline(threshold, color='red', ls='dotted')"
      ],
      "metadata": {
        "colab": {
          "base_uri": "https://localhost:8080/",
          "height": 467
        },
        "id": "ZEOeSiO8FSbh",
        "outputId": "3c168fbc-9f62-4698-bdf9-5fa853c7312c"
      },
      "execution_count": null,
      "outputs": [
        {
          "output_type": "execute_result",
          "data": {
            "text/plain": [
              "<matplotlib.lines.Line2D at 0x79db61600640>"
            ]
          },
          "metadata": {},
          "execution_count": 13
        },
        {
          "output_type": "display_data",
          "data": {
            "text/plain": [
              "<Figure size 640x480 with 1 Axes>"
            ],
            "image/png": "[encoded data removed]"
          },
          "metadata": {}
        }
      ]
    },
    {
      "cell_type": "markdown",
      "source": [
        "### Discussion\n",
        "This lab was easy to complete and yielded interesting data on how much electrical energy is used at a given percentage of how much force our muscles are producing. The data clearly shows the amount of force decreasing over time as the muscles in our forearm were starting to fatigue. Although you can also observe a slight rebound in force after the 30 second mark, however this rebound does not clear the 70% threshold."
      ],
      "metadata": {
        "id": "iqHuSYOBmVXl"
      }
    },
    {
      "cell_type": "markdown",
      "source": [
        "### Conclusion\n",
        "This lab was easy to complete, the most annoying part of it was pulling the electrode pads off of my arms, however that was aided with the use of isopropyl alcohol to dissolve the adhesive. The data gathered all appeared to be within range and indicated that the lab was performed correctly by me and my partner. It was easy to complete this lab report as all of the code was provided by our intstructor to help graph the data in an easy to understand and professional format."
      ],
      "metadata": {
        "id": "y6xqvoUr1OsK"
      }
    }
  ]
}